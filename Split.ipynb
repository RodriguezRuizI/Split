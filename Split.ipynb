{
 "cells": [
  {
   "cell_type": "code",
   "execution_count": 30,
   "metadata": {},
   "outputs": [],
   "source": [
    "import pandas as pd\n",
    "correos = pd.read_csv('lista-de-correos.csv')"
   ]
  },
  {
   "cell_type": "code",
   "execution_count": 39,
   "metadata": {},
   "outputs": [],
   "source": [
    "correos['correo']=correos['Correos'].str.split('-', 1).str[1]"
   ]
  },
  {
   "cell_type": "code",
   "execution_count": 40,
   "metadata": {},
   "outputs": [
    {
     "data": {
      "text/plain": [
       "0                  isabel.rodriguez@satelec.etsit.upm.es\n",
       "1                                    ablasmont@gmail.com\n",
       "2                           maria.sanruiz@alumnos.upm.es\n",
       "3                       ana.alvarez@satelec.etsit.upm.es\n",
       "4                                i.pintor@alumnos.upm.es\n",
       "                             ...                        \n",
       "286                               juan.torre90@gmail.com\n",
       "287                             eduardgonzalo1@gmail.com\n",
       "288                      jorge.quijorna.santos@gmail.com\n",
       "289    Olaya Fernández - maria.sfernandez@alumnos.upm.es\n",
       "290                                 alvaro0m0p@gmail.com\n",
       "Name: correo, Length: 291, dtype: object"
      ]
     },
     "execution_count": 40,
     "metadata": {},
     "output_type": "execute_result"
    }
   ],
   "source": [
    "correos['correo']"
   ]
  },
  {
   "cell_type": "code",
   "execution_count": 41,
   "metadata": {},
   "outputs": [],
   "source": [
    "correos['correo'].to_csv('correos.csv')"
   ]
  },
  {
   "cell_type": "markdown",
   "metadata": {},
   "source": [
    "A veces splitea mal guiones de correos. Revisar manual"
   ]
  }
 ],
 "metadata": {
  "kernelspec": {
   "display_name": "Python 3",
   "language": "python",
   "name": "python3"
  },
  "language_info": {
   "codemirror_mode": {
    "name": "ipython",
    "version": 3
   },
   "file_extension": ".py",
   "mimetype": "text/x-python",
   "name": "python",
   "nbconvert_exporter": "python",
   "pygments_lexer": "ipython3",
   "version": "3.8.3"
  }
 },
 "nbformat": 4,
 "nbformat_minor": 4
}
